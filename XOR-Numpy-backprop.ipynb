{
 "nbformat": 4,
 "nbformat_minor": 0,
 "metadata": {
  "kernelspec": {
   "display_name": "Python 3",
   "language": "python",
   "name": "python3"
  },
  "language_info": {
   "codemirror_mode": {
    "name": "ipython",
    "version": 3
   },
   "file_extension": ".py",
   "mimetype": "text/x-python",
   "name": "python",
   "nbconvert_exporter": "python",
   "pygments_lexer": "ipython3",
   "version": "3.6.6"
  },
  "colab": {
   "name": "XOR-Numpy-backprop.ipynb",
   "provenance": [],
   "collapsed_sections": []
  }
 },
 "cells": [
  {
   "cell_type": "markdown",
   "metadata": {
    "id": "ljoVu0DiILmX"
   },
   "source": [
    "# Copyright\n",
    "\n",
    "<PRE>\n",
    "Jelen iPython notebook a Budapesti Műszaki és Gazdaságtudományi Egyetemen tartott \"Deep Learning a gyakorlatban Python és LUA alapon\" tantárgy segédanyagaként készült. \n",
    "A tantárgy honlapja: http://smartlab.tmit.bme.hu/oktatas-deep-learning\n",
    "Deep Learning kutatás: http://smartlab.tmit.bme.hu/deep-learning\n",
    "Jelen notebook Nicolas P. Rougier munkája alapján készült, melyet BSD licensz véd: http://www.labri.fr/perso/nrougier/downloads/mlp.py\n",
    "\n",
    "A notebook bármely részének újra felhasználása, publikálása csak a szerzők írásos beleegyezése esetén megegengedett.\n",
    "\n",
    "2020 (c) Gyires-Tóth Bálint (toth.b kukac tmit pont bme pont hu), Császár Márk\n",
    "</PRE>"
   ]
  },
  {
   "cell_type": "markdown",
   "metadata": {
    "id": "RqhES-R3ILmY"
   },
   "source": [
    "# XOR feladat neuron hálós megközelítése"
   ]
  },
  {
   "cell_type": "markdown",
   "metadata": {
    "id": "bt8bMaZ3ILmY"
   },
   "source": [
    "Először a historikisan is nagy jelentőségű XOR problémát fogjuk megoldani \"pure\" Python-ban. \n",
    "\n",
    "A XOR probléma a gépi tanulás szempontjából azért érdekes, mert míg az AND és az OR logikai függvények architektúrális szempontból megoldhatóak egyetlen neuron segítségével, addig a XOR-ra ez nem teljesül. Az AND és az OR esetében létezik a függvény által felveheto kimeneti értékek között egy olyan hipersík (szeparálósík), amely segítségével egyértelmű a szeparáció.\n",
    "\n",
    "A XOR probléma további tárgyalásához tekintsük az alábbi igazságtáblát:\n",
    "\n",
    "\n",
    "  A     | B   | A XOR B\n",
    "  :----:| :----:|:--------:\n",
    "  0     | 0   |    0\n",
    "  1     | 0   |    1\n",
    "  0     | 1   |    1\n",
    "  1     | 1   |    0"
   ]
  },
  {
   "cell_type": "code",
   "metadata": {
    "id": "I6QkLKfiILmZ",
    "outputId": "f2e51ca8-e005-41d6-e7e0-7083f410df65",
    "colab": {
     "base_uri": "https://localhost:8080/",
     "height": 269
    }
   },
   "source": [
    "# A notebook alapú megjelenítés aktiválása\n",
    "%matplotlib inline\n",
    "import matplotlib.pyplot as plt # Pylab grafikus megjelenítocsomag importálása\n",
    "\n",
    "# \"Igaz\" logikai értékek megadása\n",
    "true_x = [1, 0]\n",
    "true_y = [0, 1]\n",
    "\n",
    "# \"Hamis\" logikai értékek megadása\n",
    "false_x = [0, 1]\n",
    "false_y = [0, 1]\n",
    "\n",
    "# Jelöljük pirossal a hamis logikai értékeket, zölddel pedig az igazakat.\n",
    "plot1 = plt.plot(true_x, true_y,'gs')\n",
    "plot2 = plt.plot(false_x, false_y, 'rs')\n",
    "\n",
    "# A jobb ábrázálhatóság miatt, szélesebb tartományokat jelenítünk meg\n",
    "plt.xlim(-0.5, 1.5)\n",
    "plt.ylim(-0.5, 1.5)\n",
    "\n",
    "# Négyzetrács megjelenítése\n",
    "plt.grid(True)\n",
    "\n",
    "# Az x és y tengely megjelenítése\n",
    "plt.axhline(0, linestyle='dashed')\n",
    "plt.axvline(0, linestyle='dashed')\n",
    "\n",
    "# Az ábra kirajzolása\n",
    "plt.show()"
   ],
   "execution_count": 1,
   "outputs": [
    {
     "data": {
      "text/plain": "<Figure size 432x288 with 1 Axes>",
      "image/png": "[encoded data removed]"
     },
     "metadata": {
      "needs_background": "light"
     },
     "output_type": "display_data"
    }
   ]
  },
  {
   "cell_type": "markdown",
   "metadata": {
    "id": "xPL6LAyJILme"
   },
   "source": [
    "Mint ahogy a fenti ábrán is látszódik, nem tudjuk egyetlen szeparáló síkkal (2 dimenzióban egyenessel) külön választani az igaz és a hamis értékeket.\n",
    "\n",
    "Mivel egyetlen síkkal nem tudjuk szétválasztani a kimeneteket ezért a neurális hálózat be- és kimeneti rétege közé szükségszerű, hogy további, un. rejtett réteg(ek)et illesszünk be. "
   ]
  },
  {
   "cell_type": "markdown",
   "metadata": {
    "id": "4Kdxyn6iILme"
   },
   "source": [
    "Mielőtt a konkrét programkóddal ismerkednénk meg, tekintsük át egy mesterséges neurális hálózat általános architektúráját, felépítését. Ahhoz, hogy neurális hálózatunk felügyelt tanítás során rendeltetésszerűen működjön, szükségünk van:\n",
    "\n",
    " - Tanító adatokra (bemenet és felügyelt esetben kimenet),\n",
    " - Magára a neurális hálózatra, amely magában foglal:\n",
    "   - bemeneti réteget, egy kimeneti réteget, illetve köztük elhelyezkedo rejtett réteg(ek)et,\n",
    "   - rétegenként tetszőleges számú neuronokat, \n",
    "   - a rétegeket összekötő, különböző súlyokkal rendelkező éleket,\n",
    "   - a neuronokon elvégzett lineáris (súlyozott összegzés), illetve nem lineáris függvényeket (pl. sigmoid, tanh, ReLU, stb.).\n",
    " - Tanítási fázist:\n",
    "   - a bemenő adatokat \"végigküldjük\" a hálózaton (forward propagation),\n",
    "   - a bemenő adatok alapján kiszámoljuk a hálózat által \"jósolt\" eredményt,\n",
    "   - a jósolt eredmény és a tanító adatokban szereplő elvárt eredmény közötti kapcsolat kiszámítása (költségfüggvény),\n",
    "   - a kapott hibaérték visszaterjesztése (backpropagation) a hálózaton, a láncszabály és a parciális deriválás módszerével (gradiensek kiszámítása)\n",
    "   - a rétegek közötti súlyok frissítését a gradiensek segítségével.\n",
    "   \n",
    "Első lépésként importáljuk a már jól ismert Numpy csomagot, amire np-ként fogunk hivatkozni, illetve a további szükséges csomagokat:"
   ]
  },
  {
   "cell_type": "code",
   "metadata": {
    "id": "xYfDp0zoILmf"
   },
   "source": [
    "import numpy as np\n",
    "from sklearn import preprocessing\n",
    "import copy"
   ],
   "execution_count": 2,
   "outputs": []
  },
  {
   "cell_type": "markdown",
   "metadata": {
    "id": "rxXVFzeoILmh"
   },
   "source": [
    "Az aktivációs függvény definiálása. A \"forward\" lépésben a hálózatot alkotó neuronokkal két műveletet hajtunk végre: (1) Egy súlyozott lineáris összegzést, (2) illetve egy nemlineáris aktiválási függvényt. A lineáris függvény nem csinál mást, minthogy összegzi az adott neuronhoz beérkező értékeket a hozzá vezető súly értékével megszorozva. Ezután a kapott eredményen alkalmazzuk a nemlineáris aktivációs függvényt. Ez általában annyit csinál, hogy amennyiben az argomentuma (a korábbi szummázás)meghalad egy bizonyos küszöbértéket, akkor a neuron továbbítja a következő rétegre az adatokat. Itt a sigmoid-ot használjuk erre a célra, amit előbb definiálunk majd megnézzük, hogy hogyan néz ki:"
   ]
  },
  {
   "cell_type": "code",
   "metadata": {
    "id": "W4dT2-NjILmi"
   },
   "source": [
    "def activation(x):\n",
    "    return 1 / (1 + np.exp(-x))"
   ],
   "execution_count": 3,
   "outputs": []
  },
  {
   "cell_type": "code",
   "metadata": {
    "id": "BdfsRF05ILmk",
    "outputId": "a41108a1-795e-40f2-f503-77dc8902fae0",
    "colab": {
     "base_uri": "https://localhost:8080/",
     "height": 287
    }
   },
   "source": [
    "segedX=np.linspace(-6,6,200)\n",
    "# A jobb ábrázálhatóság miatt, szélesebb tartományokat jelenítünk meg\n",
    "plt.xlim(-6, 6)\n",
    "plt.ylim(-0.5, 1.5)\n",
    "# Az x és y tengely megjelenítése\n",
    "plt.axhline(0, linestyle='dashed')\n",
    "plt.axvline(0, linestyle='dashed')\n",
    "plt.plot(segedX,activation(segedX))"
   ],
   "execution_count": 4,
   "outputs": [
    {
     "data": {
      "text/plain": "[<matplotlib.lines.Line2D at 0x7fe1a814e4f0>]"
     },
     "execution_count": 4,
     "metadata": {},
     "output_type": "execute_result"
    },
    {
     "data": {
      "text/plain": "<Figure size 432x288 with 1 Axes>",
      "image/png": "[encoded data removed]"
     },
     "metadata": {
      "needs_background": "light"
     },
     "output_type": "display_data"
    }
   ]
  },
  {
   "cell_type": "markdown",
   "metadata": {
    "id": "l3Ne3qcJILmn"
   },
   "source": [
    "Következőnek definiáljuk az aktivációs függvény deriváltját. A tanítási fázis során, a hiba végigterjesztésekor (backpropagation) az aktivációs függvényt, azaz annak a deriváltját használjuk. Definiáljuk majd nézzük meg ezt is, hogy hogyan néz ki sigmoid esetén:"
   ]
  },
  {
   "cell_type": "code",
   "metadata": {
    "id": "Saq0s-XNILmn",
    "outputId": "d4b32541-da5c-4c5a-85ea-0c267723c8ac",
    "colab": {
     "base_uri": "https://localhost:8080/",
     "height": 283
    }
   },
   "source": [
    "def dactivation(x):\n",
    "    return np.exp(-x)/((1+np.exp(-x))**2)\n",
    "plt.plot(segedX,dactivation(segedX))"
   ],
   "execution_count": 6,
   "outputs": [
    {
     "data": {
      "text/plain": "[<matplotlib.lines.Line2D at 0x7fe1a808a0a0>]"
     },
     "execution_count": 6,
     "metadata": {},
     "output_type": "execute_result"
    },
    {
     "data": {
      "text/plain": "<Figure size 432x288 with 1 Axes>",
      "image/png": "[encoded data removed]"
     },
     "metadata": {
      "needs_background": "light"
     },
     "output_type": "display_data"
    }
   ]
  },
  {
   "cell_type": "markdown",
   "metadata": {
    "id": "4bnNWDupILmq"
   },
   "source": [
    "Most jön a java! Definiáljuk az MLP osztályt négy függvénnyel: inicializálás, súlyok resetelése, forward lépés, backward lépés."
   ]
  },
  {
   "cell_type": "code",
   "metadata": {
    "id": "YZhB41otILmq"
   },
   "source": [
    "# MLP osztály létrehozása.\n",
    "class MLP:\n",
    "    \n",
    "    # A hálózat inicializálása az argumentumként megadott méretek alapján.\n",
    "    def __init__(self, *args):\n",
    "        # random seed megadása\n",
    "        np.random.seed(123)\n",
    "        # A hálózat formája (rétegek száma), amely megegyezik a paraméterek számával\n",
    "        self.shape = args\n",
    "        n = len(args)\n",
    "        # Rétegek létrehozása\n",
    "        self.layers = []\n",
    "        # Bemeneti réteg létrehozása (+1 egység a BIAS-nak)\n",
    "        self.layers.append(np.ones(self.shape[0]+1))\n",
    "        # Rejtett réteg(ek) és a kimeneti réteg létrehozása\n",
    "        for i in range(1,n):\n",
    "            self.layers.append(np.ones(self.shape[i]))\n",
    "        # Súlymátrix létrehozása\n",
    "        self.weights = []\n",
    "        for i in range(n-1):\n",
    "            self.weights.append(np.zeros((self.layers[i].size,\n",
    "                                         self.layers[i+1].size)))\n",
    "        # dw fogja tartalmazni a súlyok utolsó módosításait (később pl. a momentum módszer számára)\n",
    "        self.dw = [0,]*len(self.weights)\n",
    "        # Súlyok újrainicializálása\n",
    "        self.reset()\n",
    "    \n",
    "    # Súlyok újrainicializálási függvényének definiálása\n",
    "    def reset(self):\n",
    "        for i in range(len(self.weights)):\n",
    "            # véletlen számok [0,1) tartományban \n",
    "            Z = np.random.random((self.layers[i].size,self.layers[i+1].size))\n",
    "            # átskálázzuk a súlyokat -1..1 tartományba\n",
    "            self.weights[i][...] = (2*Z-1)*1\n",
    "\n",
    "    # A bemenő adatok végigküldése a hálózaton, kimeneti rétegig (forward propagation)\n",
    "    def propagate_forward(self, data):\n",
    "        # Bemeneti réteg beállítása (tanító adatok)\n",
    "        self.layers[0][0:-1] = data\n",
    "        # Az adatok végigküldése a bemeneti rétegtől az utolsó előtti rétegig (az utolsó ugyanis a kimeneti réteg).\n",
    "        # A szigmoid aktivációs függvény használatával, mátrixszorzások alkalmazásával.\n",
    "        # Az előadáson a \"layers\" változót jelöltük \"a\"-val.\n",
    "        for i in range(1,len(self.shape)):\n",
    "            self.layers[i][...] = activation(np.dot(self.layers[i-1],self.weights[i-1]))\n",
    "        # Visszatérés a hálózat által becsült eredménnyel\n",
    "        return self.layers[-1]\n",
    "\n",
    "    # Hibavisszaterjesztés (backpropagation) definiálása. \n",
    "    # A a learning rate (tanulási ráta) paraméter befolyásolja, hogy a hálózat súlyait milyen\n",
    "    # mértékben módosítsuk a gradiens függvényében. Ha ez az érték túl magas, akkor a háló \n",
    "    # \"oszcillálhat\" egy lokális vagy globális minimum körül. Ha túl kicsi értéket választunk,\n",
    "    # akkor pedig jelentősen több időbe telik mire elérjük a legjobb megoldást vagy leakad egy lokális \n",
    "    # minimumban és sose éri el azt.\n",
    "    \n",
    "    def propagate_backward(self, target, lrate=0.1, alpha = 0.001, lambda1 = 0.00001, lambda2 = 0.00001):\n",
    "        deltas = []\n",
    "        # Hiba kiszámítása a kimeneti rétegen\n",
    "        error = -(target-self.layers[-1]) # y-y_kalap\n",
    "        # HF2 start l1reg\n",
    "        error = error + lambda1 * np.sum(np.absolute(self.weights[-1]))\n",
    "        # HF2 end l1reg\n",
    "        # HF2 start l2reg\n",
    "        error = error + 0.5 * lambda2 * np.sum(np.square(self.weights[-1]))\n",
    "        # HF2 end l2reg\n",
    "        # error*dactivation(s(3))\n",
    "        delta = np.multiply(error,dactivation(np.dot(self.layers[-2],self.weights[-1])))\n",
    "        deltas.append(delta)\n",
    "        # Gradiens kiszámítása a rejtett réteg(ek)ben\n",
    "        for i in range(len(self.shape)-2,0,-1):\n",
    "            # pl. utolsó rejtett réteg: delta(3)*(W(2).T)*dactivation(s(2)) (lásd előadás)\n",
    "            delta=np.dot(deltas[0],self.weights[i].T)*dactivation(np.dot(self.layers[i-1],self.weights[i-1]))\n",
    "            deltas.insert(0,delta)            \n",
    "        # Súlyok módosítása\n",
    "        for i in range(len(self.weights)):\n",
    "            layer = np.atleast_2d(self.layers[i])\n",
    "            delta = np.atleast_2d(deltas[i])\n",
    "            # pl. utolsó rétegben: delta(3)*a(2) (lásd előadás)\n",
    "            dw = -lrate*np.dot(layer.T,delta)\n",
    "            # HF2 start momentum\n",
    "            dw -= alpha * self.dw[i]\n",
    "            # HF2 end momentum\n",
    "            # HF2 start l1reg\n",
    "            dw -= lrate * lambda1 * np.sign(self.weights[i])\n",
    "            # HF2 end l1reg\n",
    "            # HF2 start l2reg\n",
    "            dw -= lrate * lambda2 * self.weights[i]\n",
    "            # HF2 end l2reg\n",
    "            # súlyok módosítása\n",
    "            self.weights[i] += dw\n",
    "\n",
    "            # a súlymódosítás eltárolása\n",
    "            self.dw[i] = dw\n",
    "\n",
    "        # Visszatérés a hibával\n",
    "        return (error**2).sum()"
   ],
   "execution_count": 17,
   "outputs": []
  },
  {
   "cell_type": "code",
   "metadata": {
    "id": "aGM-FjIyILmu"
   },
   "source": [
    "def learn(network, X, Y, valid_split, test_split, epochs=20, lrate=0.1, alpha = 0, lambda1 = 0, lambda2 = 0):\n",
    "\n",
    "        # train-validation-test minták különválasztása\n",
    "        X_train = X[0:int(nb_samples*(1-valid_split-test_split))]\n",
    "        Y_train = Y[0:int(nb_samples*(1-valid_split-test_split))]\n",
    "        X_valid = X[int(nb_samples*(1-valid_split-test_split)):int(nb_samples*(1-test_split))]\n",
    "        Y_valid = Y[int(nb_samples*(1-valid_split-test_split)):int(nb_samples*(1-test_split))]\n",
    "        X_test  = X[int(nb_samples*(1-test_split)):]\n",
    "        Y_test  = Y[int(nb_samples*(1-test_split)):]\n",
    "    \n",
    "        # standardizálás\n",
    "        scaler = preprocessing.StandardScaler().fit(X_train)\n",
    "        X_train = scaler.transform(X_train)\n",
    "        X_valid = scaler.transform(X_valid)\n",
    "        X_test  = scaler.transform(X_test)\n",
    "    \n",
    "        # ugyanolyan sorrendben keverjük be a bemeneteket és kimeneteket, a három külön adatbázisra\n",
    "        randperm = np.random.permutation(len(X_train))\n",
    "        X_train, Y_train = X_train[randperm], Y_train[randperm]\n",
    "        \n",
    "        # Tanítási fázis, epoch-szor megyünk át 1-1 véltelenszerűen kiválasztott mintán.\n",
    "        for i in range(epochs):\n",
    "            # Jelen megoldás azt a módszert használja, hogy a megadott \n",
    "            # tanító adatokon végigmegyünk és minden elemet először végigküldünk\n",
    "            # a hálózaton, majd terjeszti vissza a kapott eltérést az\n",
    "            # elvárt eredménytől. Ezt hívjuk SGD-ek (stochastic gradient descent).\n",
    "            train_err = 0\n",
    "            for k in range(X_train.shape[0]):\n",
    "                network.propagate_forward( X_train[k] )\n",
    "                train_err += network.propagate_backward( Y_train[k], lrate, alpha, lambda1, lambda2)\n",
    "            train_err /= X_train.shape[0]\n",
    "\n",
    "            # validációs fázis\n",
    "            valid_err = 0\n",
    "            o_valid = np.zeros(X_valid.shape[0])\n",
    "            for k in range(X_valid.shape[0]):\n",
    "                o_valid[k] = network.propagate_forward(X_valid[k])\n",
    "                valid_err += (o_valid[k]-Y_valid[k])**2\n",
    "            valid_err /= X_valid.shape[0]\n",
    "\n",
    "            print(\"%d epoch, train_err: %.4f, valid_err: %.4f\" % (i, train_err, valid_err))\n",
    "\n",
    "        # Tesztelési fázis\n",
    "        print(\"\\n--- TESZTELÉS ---\\n\")\n",
    "        test_err = 0\n",
    "        o_test = np.zeros(X_test.shape[0])\n",
    "        for k in range(X_test.shape[0]):\n",
    "            o_test[k] = network.propagate_forward(X_test[k])\n",
    "            test_err += (o_test[k]-Y_test[k])**2\n",
    "            print(k, X_test[k], '%.2f' % o_test[k], ' (elvart eredmeny: %.2f)' % Y_test[k])\n",
    "        test_err /= X_test.shape[0]\n",
    "\n",
    "        fig1=plt.figure()\n",
    "        plt.scatter(X_test[:,0], X_test[:,1], c=np.round(o_test[:]), cmap=plt.cm.cool)"
   ],
   "execution_count": 23,
   "outputs": []
  },
  {
   "cell_type": "code",
   "metadata": {
    "id": "bktmacXhILmx"
   },
   "source": [
    "# Mesterséges neurális hálózat létrehozása, 2 bemenettel, 10 rejtett neuronnal és 1 kimenettel\n",
    "network = MLP(2,10,1)"
   ],
   "execution_count": 24,
   "outputs": []
  },
  {
   "cell_type": "code",
   "metadata": {
    "id": "p5DdHDQgILmz",
    "outputId": "570f9e4c-e76e-4ce6-fd80-f8c39e53e6a7"
   },
   "source": [
    "# Tanító, validációs és teszt adatok megadása a rendszernek (zajjal terhelt XOR adatok)\n",
    "nb_samples=1000\n",
    "X = np.zeros((nb_samples,2))\n",
    "Y = np.zeros(nb_samples)\n",
    "for i in range(0,nb_samples,4):\n",
    "    noise = np.random.normal(0,1,8)\n",
    "    X[i], Y[i] = (-2+noise[0],-2+noise[1]), 0\n",
    "    X[i+1], Y[i+1] = (2+noise[2],-2+noise[3]), 1\n",
    "    X[i+2], Y[i+2] = (-2+noise[4],2+noise[5]), 1\n",
    "    X[i+3], Y[i+3] = (2+noise[6],2+noise[7]), 0\n",
    "\n",
    "# ...és az adatok kirajzolása\n",
    "fig1=plt.figure()\n",
    "plt.scatter(X[:,0],X[:,1],c=Y[:], cmap=plt.cm.cool)"
   ],
   "execution_count": 29,
   "outputs": [
    {
     "data": {
      "text/plain": "<matplotlib.collections.PathCollection at 0x7fe1a6497fd0>"
     },
     "execution_count": 29,
     "metadata": {},
     "output_type": "execute_result"
    },
    {
     "data": {
      "text/plain": "<Figure size 432x288 with 1 Axes>",
      "image/png": "[encoded data removed]"
     },
     "metadata": {
      "needs_background": "light"
     },
     "output_type": "display_data"
    }
   ]
  },
  {
   "cell_type": "code",
   "metadata": {
    "id": "mbhI-rGjILm1",
    "outputId": "5183dcb9-abed-41cf-cfb1-6533ee195b49"
   },
   "source": [
    "# Tanítás/Tesztelés indítása\n",
    "network.reset()\n",
    "print(\"With no optimization:\")\n",
    "learn(network, X, Y, 0.2, 0.1, 20, 0.1, 0, 0, 0)\n",
    "print(\"With moment:\")\n",
    "learn(network, X, Y, 0.2, 0.1, 20, 0.1, 0.1, 0, 0)\n",
    "print(\"With L1 and L2:\")\n",
    "learn(network, X, Y, 0.2, 0.1, 20, 0.1, 0,  0.0005, 0.0005)\n"
   ],
   "execution_count": 30,
   "outputs": [
    {
     "name": "stdout",
     "output_type": "stream",
     "text": [
      "With no optimization:\n",
      "0 epoch, train_err: 0.2563, valid_err: 0.2475\n",
      "1 epoch, train_err: 0.2475, valid_err: 0.2416\n",
      "2 epoch, train_err: 0.2397, valid_err: 0.2321\n",
      "3 epoch, train_err: 0.2267, valid_err: 0.2165\n",
      "4 epoch, train_err: 0.2057, valid_err: 0.1930\n",
      "5 epoch, train_err: 0.1767, valid_err: 0.1641\n",
      "6 epoch, train_err: 0.1447, valid_err: 0.1362\n",
      "7 epoch, train_err: 0.1167, valid_err: 0.1141\n",
      "8 epoch, train_err: 0.0956, valid_err: 0.0984\n",
      "9 epoch, train_err: 0.0808, valid_err: 0.0874\n",
      "10 epoch, train_err: 0.0704, valid_err: 0.0796\n",
      "11 epoch, train_err: 0.0630, valid_err: 0.0740\n",
      "12 epoch, train_err: 0.0576, valid_err: 0.0697\n",
      "13 epoch, train_err: 0.0536, valid_err: 0.0663\n",
      "14 epoch, train_err: 0.0504, valid_err: 0.0636\n",
      "15 epoch, train_err: 0.0478, valid_err: 0.0614\n",
      "16 epoch, train_err: 0.0458, valid_err: 0.0596\n",
      "17 epoch, train_err: 0.0440, valid_err: 0.0580\n",
      "18 epoch, train_err: 0.0426, valid_err: 0.0566\n",
      "19 epoch, train_err: 0.0414, valid_err: 0.0554\n",
      "\n",
      "--- TESZTELÉS ---\n",
      "\n",
      "0 [-0.60391906 -0.34852351] 0.25  (elvart eredmeny: 0.00)\n",
      "1 [ 0.70697015 -0.91252861] 0.92  (elvart eredmeny: 1.00)\n",
      "2 [-0.8148005   0.98248045] 0.96  (elvart eredmeny: 1.00)\n",
      "3 [0.55169484 0.20466001] 0.43  (elvart eredmeny: 0.00)\n",
      "4 [-0.79129482 -0.69852718] 0.08  (elvart eredmeny: 0.00)\n",
      "5 [ 0.58351103 -0.33977098] 0.80  (elvart eredmeny: 1.00)\n",
      "6 [-1.15598871  1.25005593] 0.96  (elvart eredmeny: 1.00)\n",
      "7 [1.22267363 0.17222737] 0.26  (elvart eredmeny: 0.00)\n",
      "8 [-0.53949992 -1.9382297 ] 0.13  (elvart eredmeny: 0.00)\n",
      "9 [ 1.00436918 -1.22328742] 0.95  (elvart eredmeny: 1.00)\n",
      "10 [-0.85673207  1.43855269] 0.92  (elvart eredmeny: 1.00)\n",
      "11 [1.14188894 1.16249285] 0.02  (elvart eredmeny: 0.00)\n",
      "12 [-0.46489367 -1.08907452] 0.12  (elvart eredmeny: 0.00)\n",
      "13 [ 1.13127892 -0.814795  ] 0.93  (elvart eredmeny: 1.00)\n",
      "14 [-1.12075023  1.05153633] 0.97  (elvart eredmeny: 1.00)\n",
      "15 [0.54827783 1.17008264] 0.07  (elvart eredmeny: 0.00)\n",
      "16 [-1.51422844 -0.26545535] 0.28  (elvart eredmeny: 0.00)\n",
      "17 [ 0.72683466 -0.67253302] 0.89  (elvart eredmeny: 1.00)\n",
      "18 [-1.10326315  0.56796334] 0.93  (elvart eredmeny: 1.00)\n",
      "19 [0.84734125 1.60066316] 0.05  (elvart eredmeny: 0.00)\n",
      "20 [-0.89294071 -1.24829615] 0.05  (elvart eredmeny: 0.00)\n",
      "21 [ 0.093442   -0.84663008] 0.67  (elvart eredmeny: 1.00)\n",
      "22 [-0.85443293  0.53513387] 0.93  (elvart eredmeny: 1.00)\n",
      "23 [1.14919737 0.99753088] 0.03  (elvart eredmeny: 0.00)\n",
      "24 [-0.87563232 -0.73272733] 0.06  (elvart eredmeny: 0.00)\n",
      "25 [ 0.34759041 -0.76862614] 0.83  (elvart eredmeny: 1.00)\n",
      "26 [-0.92069391  1.40458667] 0.94  (elvart eredmeny: 1.00)\n",
      "27 [0.62876899 1.19899947] 0.05  (elvart eredmeny: 0.00)\n",
      "28 [-0.91236462 -0.44837865] 0.10  (elvart eredmeny: 0.00)\n",
      "29 [ 2.00355476 -0.73756379] 0.75  (elvart eredmeny: 1.00)\n",
      "30 [-1.16152825  0.98666481] 0.96  (elvart eredmeny: 1.00)\n",
      "31 [1.11421201 0.67665908] 0.06  (elvart eredmeny: 0.00)\n",
      "32 [-1.01703932 -1.03380915] 0.04  (elvart eredmeny: 0.00)\n",
      "33 [ 1.5529515  -0.84764149] 0.91  (elvart eredmeny: 1.00)\n",
      "34 [-0.69603712  0.4388829 ] 0.88  (elvart eredmeny: 1.00)\n",
      "35 [0.31641361 0.34451376] 0.40  (elvart eredmeny: 0.00)\n",
      "36 [-0.80595515 -1.23153014] 0.05  (elvart eredmeny: 0.00)\n",
      "37 [ 0.49699288 -0.61204493] 0.86  (elvart eredmeny: 1.00)\n",
      "38 [-0.46750016  0.61319671] 0.86  (elvart eredmeny: 1.00)\n",
      "39 [-0.71355975  0.29767111] 0.80  (elvart eredmeny: 0.00)\n",
      "40 [-1.6801878  -0.17369995] 0.41  (elvart eredmeny: 0.00)\n",
      "41 [ 0.75184609 -1.37163863] 0.93  (elvart eredmeny: 1.00)\n",
      "42 [-0.14141164  0.30926306] 0.62  (elvart eredmeny: 1.00)\n",
      "43 [0.96090314 0.53572849] 0.11  (elvart eredmeny: 0.00)\n",
      "44 [-1.57237414 -1.32438394] 0.03  (elvart eredmeny: 0.00)\n",
      "45 [ 1.4106571  -0.96367519] 0.94  (elvart eredmeny: 1.00)\n",
      "46 [-0.53159566  0.63475691] 0.89  (elvart eredmeny: 1.00)\n",
      "47 [0.56161661 0.72080501] 0.11  (elvart eredmeny: 0.00)\n",
      "48 [-0.4398409  -1.14576124] 0.13  (elvart eredmeny: 0.00)\n",
      "49 [ 0.467708   -1.48989979] 0.80  (elvart eredmeny: 1.00)\n",
      "50 [-1.15648939  0.26608427] 0.77  (elvart eredmeny: 1.00)\n",
      "51 [1.83894842 1.02706947] 0.04  (elvart eredmeny: 0.00)\n",
      "52 [-1.58017904 -0.63062248] 0.11  (elvart eredmeny: 0.00)\n",
      "53 [ 0.59069435 -0.86340103] 0.90  (elvart eredmeny: 1.00)\n",
      "54 [-1.43736041  0.81150545] 0.93  (elvart eredmeny: 1.00)\n",
      "55 [1.02236817 0.77462743] 0.05  (elvart eredmeny: 0.00)\n",
      "56 [-0.50260819 -0.41581916] 0.28  (elvart eredmeny: 0.00)\n",
      "57 [ 1.57439482 -1.49010159] 0.97  (elvart eredmeny: 1.00)\n",
      "58 [-0.80063748  1.60243326] 0.87  (elvart eredmeny: 1.00)\n",
      "59 [0.64948881 1.4330872 ] 0.06  (elvart eredmeny: 0.00)\n",
      "60 [-0.83109034 -1.27077496] 0.05  (elvart eredmeny: 0.00)\n",
      "61 [ 0.65351705 -0.77269364] 0.90  (elvart eredmeny: 1.00)\n",
      "62 [-1.15805755  1.40505059] 0.96  (elvart eredmeny: 1.00)\n",
      "63 [1.20347377 0.73585693] 0.05  (elvart eredmeny: 0.00)\n",
      "64 [-1.51062089 -0.83353622] 0.05  (elvart eredmeny: 0.00)\n",
      "65 [ 1.72776914 -0.38980609] 0.60  (elvart eredmeny: 1.00)\n",
      "66 [-0.45373211  1.2575948 ] 0.86  (elvart eredmeny: 1.00)\n",
      "67 [1.68469949 1.02441048] 0.03  (elvart eredmeny: 0.00)\n",
      "68 [-0.04165655 -0.77702481] 0.56  (elvart eredmeny: 0.00)\n",
      "69 [ 0.75686784 -0.18871783] 0.71  (elvart eredmeny: 1.00)\n",
      "70 [-0.86831584  1.06719782] 0.96  (elvart eredmeny: 1.00)\n",
      "71 [1.02314734 1.21726541] 0.03  (elvart eredmeny: 0.00)\n",
      "72 [-0.86352648 -1.38427113] 0.05  (elvart eredmeny: 0.00)\n",
      "73 [ 1.22067916 -0.74189821] 0.91  (elvart eredmeny: 1.00)\n",
      "74 [-1.04897964  0.54894763] 0.93  (elvart eredmeny: 1.00)\n",
      "75 [1.19975179 0.49663761] 0.10  (elvart eredmeny: 0.00)\n",
      "76 [-1.17103315 -1.74383814] 0.05  (elvart eredmeny: 0.00)\n",
      "77 [ 0.75644554 -0.45684284] 0.84  (elvart eredmeny: 1.00)\n",
      "78 [-0.90188036  0.43936346] 0.90  (elvart eredmeny: 1.00)\n",
      "79 [1.63773616 1.1451963 ] 0.03  (elvart eredmeny: 0.00)\n",
      "80 [-1.23768453 -0.73208191] 0.05  (elvart eredmeny: 0.00)\n",
      "81 [ 0.77424767 -1.69945378] 0.90  (elvart eredmeny: 1.00)\n",
      "82 [-0.67275925  0.63714954] 0.93  (elvart eredmeny: 1.00)\n",
      "83 [1.65659771 1.46488494] 0.02  (elvart eredmeny: 0.00)\n",
      "84 [-1.35080122 -1.5238368 ] 0.03  (elvart eredmeny: 0.00)\n",
      "85 [ 0.70562813 -0.51816592] 0.86  (elvart eredmeny: 1.00)\n",
      "86 [-0.60961182  1.64855876] 0.79  (elvart eredmeny: 1.00)\n",
      "87 [0.95538829 0.26587923] 0.25  (elvart eredmeny: 0.00)\n",
      "88 [-1.05815054 -1.43879156] 0.04  (elvart eredmeny: 0.00)\n",
      "89 [ 1.35342295 -0.6429078 ] 0.87  (elvart eredmeny: 1.00)\n",
      "90 [-1.17064842  0.86248508] 0.96  (elvart eredmeny: 1.00)\n",
      "91 [1.50160028 1.51328667] 0.02  (elvart eredmeny: 0.00)\n",
      "92 [-0.99747219 -1.06530045] 0.04  (elvart eredmeny: 0.00)\n",
      "93 [ 1.33592243 -1.16271046] 0.96  (elvart eredmeny: 1.00)\n",
      "94 [-1.30735375  1.0145836 ] 0.96  (elvart eredmeny: 1.00)\n",
      "95 [0.83322039 0.70340508] 0.07  (elvart eredmeny: 0.00)\n",
      "96 [-0.1374929 -0.9302054] 0.39  (elvart eredmeny: 0.00)\n",
      "97 [ 0.77984807 -1.02358745] 0.93  (elvart eredmeny: 1.00)\n",
      "98 [-0.84708112  0.78541659] 0.96  (elvart eredmeny: 1.00)\n",
      "99 [0.9042635  0.16409856] 0.35  (elvart eredmeny: 0.00)\n",
      "With moment:\n",
      "0 epoch, train_err: 0.0403, valid_err: 0.0543\n",
      "1 epoch, train_err: 0.0395, valid_err: 0.0534\n",
      "2 epoch, train_err: 0.0387, valid_err: 0.0526\n",
      "3 epoch, train_err: 0.0381, valid_err: 0.0519\n",
      "4 epoch, train_err: 0.0374, valid_err: 0.0512\n",
      "5 epoch, train_err: 0.0369, valid_err: 0.0506\n",
      "6 epoch, train_err: 0.0364, valid_err: 0.0500\n",
      "7 epoch, train_err: 0.0359, valid_err: 0.0495\n",
      "8 epoch, train_err: 0.0355, valid_err: 0.0490\n",
      "9 epoch, train_err: 0.0351, valid_err: 0.0486\n",
      "10 epoch, train_err: 0.0347, valid_err: 0.0481\n",
      "11 epoch, train_err: 0.0344, valid_err: 0.0477\n",
      "12 epoch, train_err: 0.0340, valid_err: 0.0474\n",
      "13 epoch, train_err: 0.0338, valid_err: 0.0470\n",
      "14 epoch, train_err: 0.0335, valid_err: 0.0467\n",
      "15 epoch, train_err: 0.0332, valid_err: 0.0464\n",
      "16 epoch, train_err: 0.0330, valid_err: 0.0461\n",
      "17 epoch, train_err: 0.0328, valid_err: 0.0458\n",
      "18 epoch, train_err: 0.0325, valid_err: 0.0455\n",
      "19 epoch, train_err: 0.0323, valid_err: 0.0453\n",
      "\n",
      "--- TESZTELÉS ---\n",
      "\n",
      "0 [-0.60391906 -0.34852351] 0.15  (elvart eredmeny: 0.00)\n",
      "1 [ 0.70697015 -0.91252861] 0.96  (elvart eredmeny: 1.00)\n",
      "2 [-0.8148005   0.98248045] 0.98  (elvart eredmeny: 1.00)\n",
      "3 [0.55169484 0.20466001] 0.34  (elvart eredmeny: 0.00)\n",
      "4 [-0.79129482 -0.69852718] 0.03  (elvart eredmeny: 0.00)\n",
      "5 [ 0.58351103 -0.33977098] 0.83  (elvart eredmeny: 1.00)\n",
      "6 [-1.15598871  1.25005593] 0.99  (elvart eredmeny: 1.00)\n",
      "7 [1.22267363 0.17222737] 0.22  (elvart eredmeny: 0.00)\n",
      "8 [-0.53949992 -1.9382297 ] 0.09  (elvart eredmeny: 0.00)\n",
      "9 [ 1.00436918 -1.22328742] 0.98  (elvart eredmeny: 1.00)\n",
      "10 [-0.85673207  1.43855269] 0.97  (elvart eredmeny: 1.00)\n",
      "11 [1.14188894 1.16249285] 0.01  (elvart eredmeny: 0.00)\n",
      "12 [-0.46489367 -1.08907452] 0.05  (elvart eredmeny: 0.00)\n",
      "13 [ 1.13127892 -0.814795  ] 0.97  (elvart eredmeny: 1.00)\n",
      "14 [-1.12075023  1.05153633] 0.99  (elvart eredmeny: 1.00)\n",
      "15 [0.54827783 1.17008264] 0.03  (elvart eredmeny: 0.00)\n",
      "16 [-1.51422844 -0.26545535] 0.23  (elvart eredmeny: 0.00)\n",
      "17 [ 0.72683466 -0.67253302] 0.94  (elvart eredmeny: 1.00)\n",
      "18 [-1.10326315  0.56796334] 0.97  (elvart eredmeny: 1.00)\n",
      "19 [0.84734125 1.60066316] 0.02  (elvart eredmeny: 0.00)\n",
      "20 [-0.89294071 -1.24829615] 0.02  (elvart eredmeny: 0.00)\n",
      "21 [ 0.093442   -0.84663008] 0.67  (elvart eredmeny: 1.00)\n",
      "22 [-0.85443293  0.53513387] 0.97  (elvart eredmeny: 1.00)\n",
      "23 [1.14919737 0.99753088] 0.01  (elvart eredmeny: 0.00)\n",
      "24 [-0.87563232 -0.73272733] 0.02  (elvart eredmeny: 0.00)\n",
      "25 [ 0.34759041 -0.76862614] 0.87  (elvart eredmeny: 1.00)\n",
      "26 [-0.92069391  1.40458667] 0.97  (elvart eredmeny: 1.00)\n",
      "27 [0.62876899 1.19899947] 0.02  (elvart eredmeny: 0.00)\n",
      "28 [-0.91236462 -0.44837865] 0.04  (elvart eredmeny: 0.00)\n",
      "29 [ 2.00355476 -0.73756379] 0.84  (elvart eredmeny: 1.00)\n",
      "30 [-1.16152825  0.98666481] 0.99  (elvart eredmeny: 1.00)\n",
      "31 [1.11421201 0.67665908] 0.02  (elvart eredmeny: 0.00)\n",
      "32 [-1.01703932 -1.03380915] 0.01  (elvart eredmeny: 0.00)\n",
      "33 [ 1.5529515  -0.84764149] 0.96  (elvart eredmeny: 1.00)\n",
      "34 [-0.69603712  0.4388829 ] 0.93  (elvart eredmeny: 1.00)\n",
      "35 [0.31641361 0.34451376] 0.31  (elvart eredmeny: 0.00)\n",
      "36 [-0.80595515 -1.23153014] 0.02  (elvart eredmeny: 0.00)\n",
      "37 [ 0.49699288 -0.61204493] 0.90  (elvart eredmeny: 1.00)\n",
      "38 [-0.46750016  0.61319671] 0.92  (elvart eredmeny: 1.00)\n",
      "39 [-0.71355975  0.29767111] 0.86  (elvart eredmeny: 0.00)\n",
      "40 [-1.6801878  -0.17369995] 0.39  (elvart eredmeny: 0.00)\n",
      "41 [ 0.75184609 -1.37163863] 0.97  (elvart eredmeny: 1.00)\n",
      "42 [-0.14141164  0.30926306] 0.58  (elvart eredmeny: 1.00)\n",
      "43 [0.96090314 0.53572849] 0.05  (elvart eredmeny: 0.00)\n",
      "44 [-1.57237414 -1.32438394] 0.01  (elvart eredmeny: 0.00)\n",
      "45 [ 1.4106571  -0.96367519] 0.98  (elvart eredmeny: 1.00)\n",
      "46 [-0.53159566  0.63475691] 0.94  (elvart eredmeny: 1.00)\n",
      "47 [0.56161661 0.72080501] 0.05  (elvart eredmeny: 0.00)\n",
      "48 [-0.4398409  -1.14576124] 0.06  (elvart eredmeny: 0.00)\n",
      "49 [ 0.467708   -1.48989979] 0.88  (elvart eredmeny: 1.00)\n",
      "50 [-1.15648939  0.26608427] 0.85  (elvart eredmeny: 1.00)\n",
      "51 [1.83894842 1.02706947] 0.02  (elvart eredmeny: 0.00)\n",
      "52 [-1.58017904 -0.63062248] 0.06  (elvart eredmeny: 0.00)\n",
      "53 [ 0.59069435 -0.86340103] 0.94  (elvart eredmeny: 1.00)\n",
      "54 [-1.43736041  0.81150545] 0.97  (elvart eredmeny: 1.00)\n",
      "55 [1.02236817 0.77462743] 0.02  (elvart eredmeny: 0.00)\n",
      "56 [-0.50260819 -0.41581916] 0.16  (elvart eredmeny: 0.00)\n",
      "57 [ 1.57439482 -1.49010159] 0.99  (elvart eredmeny: 1.00)\n",
      "58 [-0.80063748  1.60243326] 0.94  (elvart eredmeny: 1.00)\n",
      "59 [0.64948881 1.4330872 ] 0.03  (elvart eredmeny: 0.00)\n",
      "60 [-0.83109034 -1.27077496] 0.02  (elvart eredmeny: 0.00)\n",
      "61 [ 0.65351705 -0.77269364] 0.94  (elvart eredmeny: 1.00)\n",
      "62 [-1.15805755  1.40505059] 0.98  (elvart eredmeny: 1.00)\n",
      "63 [1.20347377 0.73585693] 0.02  (elvart eredmeny: 0.00)\n",
      "64 [-1.51062089 -0.83353622] 0.02  (elvart eredmeny: 0.00)\n",
      "65 [ 1.72776914 -0.38980609] 0.70  (elvart eredmeny: 1.00)\n",
      "66 [-0.45373211  1.2575948 ] 0.93  (elvart eredmeny: 1.00)\n",
      "67 [1.68469949 1.02441048] 0.01  (elvart eredmeny: 0.00)\n",
      "68 [-0.04165655 -0.77702481] 0.51  (elvart eredmeny: 0.00)\n",
      "69 [ 0.75686784 -0.18871783] 0.74  (elvart eredmeny: 1.00)\n",
      "70 [-0.86831584  1.06719782] 0.98  (elvart eredmeny: 1.00)\n",
      "71 [1.02314734 1.21726541] 0.01  (elvart eredmeny: 0.00)\n",
      "72 [-0.86352648 -1.38427113] 0.02  (elvart eredmeny: 0.00)\n",
      "73 [ 1.22067916 -0.74189821] 0.96  (elvart eredmeny: 1.00)\n",
      "74 [-1.04897964  0.54894763] 0.97  (elvart eredmeny: 1.00)\n",
      "75 [1.19975179 0.49663761] 0.05  (elvart eredmeny: 0.00)\n",
      "76 [-1.17103315 -1.74383814] 0.02  (elvart eredmeny: 0.00)\n",
      "77 [ 0.75644554 -0.45684284] 0.89  (elvart eredmeny: 1.00)\n",
      "78 [-0.90188036  0.43936346] 0.95  (elvart eredmeny: 1.00)\n",
      "79 [1.63773616 1.1451963 ] 0.01  (elvart eredmeny: 0.00)\n",
      "80 [-1.23768453 -0.73208191] 0.02  (elvart eredmeny: 0.00)\n",
      "81 [ 0.77424767 -1.69945378] 0.95  (elvart eredmeny: 1.00)\n",
      "82 [-0.67275925  0.63714954] 0.97  (elvart eredmeny: 1.00)\n",
      "83 [1.65659771 1.46488494] 0.01  (elvart eredmeny: 0.00)\n",
      "84 [-1.35080122 -1.5238368 ] 0.01  (elvart eredmeny: 0.00)\n",
      "85 [ 0.70562813 -0.51816592] 0.91  (elvart eredmeny: 1.00)\n",
      "86 [-0.60961182  1.64855876] 0.87  (elvart eredmeny: 1.00)\n",
      "87 [0.95538829 0.26587923] 0.18  (elvart eredmeny: 0.00)\n",
      "88 [-1.05815054 -1.43879156] 0.01  (elvart eredmeny: 0.00)\n",
      "89 [ 1.35342295 -0.6429078 ] 0.94  (elvart eredmeny: 1.00)\n",
      "90 [-1.17064842  0.86248508] 0.98  (elvart eredmeny: 1.00)\n",
      "91 [1.50160028 1.51328667] 0.00  (elvart eredmeny: 0.00)\n",
      "92 [-0.99747219 -1.06530045] 0.01  (elvart eredmeny: 0.00)\n",
      "93 [ 1.33592243 -1.16271046] 0.98  (elvart eredmeny: 1.00)\n",
      "94 [-1.30735375  1.0145836 ] 0.98  (elvart eredmeny: 1.00)\n",
      "95 [0.83322039 0.70340508] 0.03  (elvart eredmeny: 0.00)\n",
      "96 [-0.1374929 -0.9302054] 0.31  (elvart eredmeny: 0.00)\n",
      "97 [ 0.77984807 -1.02358745] 0.97  (elvart eredmeny: 1.00)\n",
      "98 [-0.84708112  0.78541659] 0.98  (elvart eredmeny: 1.00)\n",
      "99 [0.9042635  0.16409856] 0.29  (elvart eredmeny: 0.00)\n",
      "With L1 and L2:\n",
      "0 epoch, train_err: 0.0335, valid_err: 0.0466\n",
      "1 epoch, train_err: 0.0349, valid_err: 0.0477\n",
      "2 epoch, train_err: 0.0365, valid_err: 0.0492\n",
      "3 epoch, train_err: 0.0384, valid_err: 0.0510\n",
      "4 epoch, train_err: 0.0404, valid_err: 0.0528\n",
      "5 epoch, train_err: 0.0426, valid_err: 0.0548\n",
      "6 epoch, train_err: 0.0447, valid_err: 0.0568\n",
      "7 epoch, train_err: 0.0468, valid_err: 0.0587\n",
      "8 epoch, train_err: 0.0488, valid_err: 0.0604\n",
      "9 epoch, train_err: 0.0507, valid_err: 0.0620\n",
      "10 epoch, train_err: 0.0523, valid_err: 0.0634\n",
      "11 epoch, train_err: 0.0537, valid_err: 0.0646\n",
      "12 epoch, train_err: 0.0549, valid_err: 0.0656\n",
      "13 epoch, train_err: 0.0559, valid_err: 0.0665\n",
      "14 epoch, train_err: 0.0568, valid_err: 0.0672\n",
      "15 epoch, train_err: 0.0575, valid_err: 0.0678\n",
      "16 epoch, train_err: 0.0580, valid_err: 0.0682\n",
      "17 epoch, train_err: 0.0585, valid_err: 0.0686\n",
      "18 epoch, train_err: 0.0589, valid_err: 0.0689\n",
      "19 epoch, train_err: 0.0592, valid_err: 0.0692\n",
      "\n",
      "--- TESZTELÉS ---\n",
      "\n",
      "0 [-0.60391906 -0.34852351] 0.29  (elvart eredmeny: 0.00)\n",
      "1 [ 0.70697015 -0.91252861] 0.83  (elvart eredmeny: 1.00)\n",
      "2 [-0.8148005   0.98248045] 0.87  (elvart eredmeny: 1.00)\n",
      "3 [0.55169484 0.20466001] 0.40  (elvart eredmeny: 0.00)\n",
      "4 [-0.79129482 -0.69852718] 0.14  (elvart eredmeny: 0.00)\n",
      "5 [ 0.58351103 -0.33977098] 0.67  (elvart eredmeny: 1.00)\n",
      "6 [-1.15598871  1.25005593] 0.90  (elvart eredmeny: 1.00)\n",
      "7 [1.22267363 0.17222737] 0.34  (elvart eredmeny: 0.00)\n",
      "8 [-0.53949992 -1.9382297 ] 0.20  (elvart eredmeny: 0.00)\n",
      "9 [ 1.00436918 -1.22328742] 0.89  (elvart eredmeny: 1.00)\n",
      "10 [-0.85673207  1.43855269] 0.86  (elvart eredmeny: 1.00)\n",
      "11 [1.14188894 1.16249285] 0.08  (elvart eredmeny: 0.00)\n",
      "12 [-0.46489367 -1.08907452] 0.19  (elvart eredmeny: 0.00)\n",
      "13 [ 1.13127892 -0.814795  ] 0.85  (elvart eredmeny: 1.00)\n",
      "14 [-1.12075023  1.05153633] 0.90  (elvart eredmeny: 1.00)\n",
      "15 [0.54827783 1.17008264] 0.17  (elvart eredmeny: 0.00)\n",
      "16 [-1.51422844 -0.26545535] 0.28  (elvart eredmeny: 0.00)\n",
      "17 [ 0.72683466 -0.67253302] 0.79  (elvart eredmeny: 1.00)\n",
      "18 [-1.10326315  0.56796334] 0.82  (elvart eredmeny: 1.00)\n",
      "19 [0.84734125 1.60066316] 0.12  (elvart eredmeny: 0.00)\n",
      "20 [-0.89294071 -1.24829615] 0.09  (elvart eredmeny: 0.00)\n",
      "21 [ 0.093442   -0.84663008] 0.56  (elvart eredmeny: 1.00)\n",
      "22 [-0.85443293  0.53513387] 0.80  (elvart eredmeny: 1.00)\n",
      "23 [1.14919737 0.99753088] 0.09  (elvart eredmeny: 0.00)\n",
      "24 [-0.87563232 -0.73272733] 0.12  (elvart eredmeny: 0.00)\n",
      "25 [ 0.34759041 -0.76862614] 0.70  (elvart eredmeny: 1.00)\n",
      "26 [-0.92069391  1.40458667] 0.87  (elvart eredmeny: 1.00)\n",
      "27 [0.62876899 1.19899947] 0.15  (elvart eredmeny: 0.00)\n",
      "28 [-0.91236462 -0.44837865] 0.18  (elvart eredmeny: 0.00)\n",
      "29 [ 2.00355476 -0.73756379] 0.74  (elvart eredmeny: 1.00)\n",
      "30 [-1.16152825  0.98666481] 0.89  (elvart eredmeny: 1.00)\n",
      "31 [1.11421201 0.67665908] 0.14  (elvart eredmeny: 0.00)\n",
      "32 [-1.01703932 -1.03380915] 0.08  (elvart eredmeny: 0.00)\n",
      "33 [ 1.5529515  -0.84764149] 0.85  (elvart eredmeny: 1.00)\n",
      "34 [-0.69603712  0.4388829 ] 0.73  (elvart eredmeny: 1.00)\n",
      "35 [0.31641361 0.34451376] 0.39  (elvart eredmeny: 0.00)\n",
      "36 [-0.80595515 -1.23153014] 0.10  (elvart eredmeny: 0.00)\n",
      "37 [ 0.49699288 -0.61204493] 0.73  (elvart eredmeny: 1.00)\n",
      "38 [-0.46750016  0.61319671] 0.73  (elvart eredmeny: 1.00)\n",
      "39 [-0.71355975  0.29767111] 0.67  (elvart eredmeny: 0.00)\n",
      "40 [-1.6801878  -0.17369995] 0.36  (elvart eredmeny: 0.00)\n",
      "41 [ 0.75184609 -1.37163863] 0.85  (elvart eredmeny: 1.00)\n",
      "42 [-0.14141164  0.30926306] 0.53  (elvart eredmeny: 1.00)\n",
      "43 [0.96090314 0.53572849] 0.19  (elvart eredmeny: 0.00)\n",
      "44 [-1.57237414 -1.32438394] 0.06  (elvart eredmeny: 0.00)\n",
      "45 [ 1.4106571  -0.96367519] 0.88  (elvart eredmeny: 1.00)\n",
      "46 [-0.53159566  0.63475691] 0.75  (elvart eredmeny: 1.00)\n",
      "47 [0.56161661 0.72080501] 0.21  (elvart eredmeny: 0.00)\n",
      "48 [-0.4398409  -1.14576124] 0.19  (elvart eredmeny: 0.00)\n",
      "49 [ 0.467708   -1.48989979] 0.72  (elvart eredmeny: 1.00)\n",
      "50 [-1.15648939  0.26608427] 0.66  (elvart eredmeny: 1.00)\n",
      "51 [1.83894842 1.02706947] 0.09  (elvart eredmeny: 0.00)\n",
      "52 [-1.58017904 -0.63062248] 0.15  (elvart eredmeny: 0.00)\n",
      "53 [ 0.59069435 -0.86340103] 0.80  (elvart eredmeny: 1.00)\n",
      "54 [-1.43736041  0.81150545] 0.85  (elvart eredmeny: 1.00)\n",
      "55 [1.02236817 0.77462743] 0.12  (elvart eredmeny: 0.00)\n",
      "56 [-0.50260819 -0.41581916] 0.30  (elvart eredmeny: 0.00)\n",
      "57 [ 1.57439482 -1.49010159] 0.93  (elvart eredmeny: 1.00)\n",
      "58 [-0.80063748  1.60243326] 0.83  (elvart eredmeny: 1.00)\n",
      "59 [0.64948881 1.4330872 ] 0.15  (elvart eredmeny: 0.00)\n",
      "60 [-0.83109034 -1.27077496] 0.10  (elvart eredmeny: 0.00)\n",
      "61 [ 0.65351705 -0.77269364] 0.80  (elvart eredmeny: 1.00)\n",
      "62 [-1.15805755  1.40505059] 0.90  (elvart eredmeny: 1.00)\n",
      "63 [1.20347377 0.73585693] 0.12  (elvart eredmeny: 0.00)\n",
      "64 [-1.51062089 -0.83353622] 0.10  (elvart eredmeny: 0.00)\n",
      "65 [ 1.72776914 -0.38980609] 0.64  (elvart eredmeny: 1.00)\n",
      "66 [-0.45373211  1.2575948 ] 0.77  (elvart eredmeny: 1.00)\n",
      "67 [1.68469949 1.02441048] 0.08  (elvart eredmeny: 0.00)\n",
      "68 [-0.04165655 -0.77702481] 0.47  (elvart eredmeny: 0.00)\n",
      "69 [ 0.75686784 -0.18871783] 0.60  (elvart eredmeny: 1.00)\n",
      "70 [-0.86831584  1.06719782] 0.88  (elvart eredmeny: 1.00)\n",
      "71 [1.02314734 1.21726541] 0.08  (elvart eredmeny: 0.00)\n",
      "72 [-0.86352648 -1.38427113] 0.10  (elvart eredmeny: 0.00)\n",
      "73 [ 1.22067916 -0.74189821] 0.84  (elvart eredmeny: 1.00)\n",
      "74 [-1.04897964  0.54894763] 0.81  (elvart eredmeny: 1.00)\n",
      "75 [1.19975179 0.49663761] 0.19  (elvart eredmeny: 0.00)\n",
      "76 [-1.17103315 -1.74383814] 0.09  (elvart eredmeny: 0.00)\n",
      "77 [ 0.75644554 -0.45684284] 0.73  (elvart eredmeny: 1.00)\n",
      "78 [-0.90188036  0.43936346] 0.76  (elvart eredmeny: 1.00)\n",
      "79 [1.63773616 1.1451963 ] 0.07  (elvart eredmeny: 0.00)\n",
      "80 [-1.23768453 -0.73208191] 0.10  (elvart eredmeny: 0.00)\n",
      "81 [ 0.77424767 -1.69945378] 0.82  (elvart eredmeny: 1.00)\n",
      "82 [-0.67275925  0.63714954] 0.80  (elvart eredmeny: 1.00)\n",
      "83 [1.65659771 1.46488494] 0.06  (elvart eredmeny: 0.00)\n",
      "84 [-1.35080122 -1.5238368 ] 0.07  (elvart eredmeny: 0.00)\n",
      "85 [ 0.70562813 -0.51816592] 0.75  (elvart eredmeny: 1.00)\n",
      "86 [-0.60961182  1.64855876] 0.77  (elvart eredmeny: 1.00)\n",
      "87 [0.95538829 0.26587923] 0.31  (elvart eredmeny: 0.00)\n",
      "88 [-1.05815054 -1.43879156] 0.08  (elvart eredmeny: 0.00)\n",
      "89 [ 1.35342295 -0.6429078 ] 0.80  (elvart eredmeny: 1.00)\n",
      "90 [-1.17064842  0.86248508] 0.88  (elvart eredmeny: 1.00)\n",
      "91 [1.50160028 1.51328667] 0.06  (elvart eredmeny: 0.00)\n",
      "92 [-0.99747219 -1.06530045] 0.08  (elvart eredmeny: 0.00)\n",
      "93 [ 1.33592243 -1.16271046] 0.91  (elvart eredmeny: 1.00)\n",
      "94 [-1.30735375  1.0145836 ] 0.89  (elvart eredmeny: 1.00)\n",
      "95 [0.83322039 0.70340508] 0.16  (elvart eredmeny: 0.00)\n",
      "96 [-0.1374929 -0.9302054] 0.38  (elvart eredmeny: 0.00)\n",
      "97 [ 0.77984807 -1.02358745] 0.85  (elvart eredmeny: 1.00)\n",
      "98 [-0.84708112  0.78541659] 0.86  (elvart eredmeny: 1.00)\n",
      "99 [0.9042635  0.16409856] 0.38  (elvart eredmeny: 0.00)\n"
     ]
    },
    {
     "data": {
      "text/plain": "<Figure size 432x288 with 1 Axes>",
      "image/png": "[encoded data removed]"
     },
     "metadata": {
      "needs_background": "light"
     },
     "output_type": "display_data"
    },
    {
     "data": {
      "text/plain": "<Figure size 432x288 with 1 Axes>",
      "image/png": "[encoded data removed]"
     },
     "metadata": {
      "needs_background": "light"
     },
     "output_type": "display_data"
    },
    {
     "data": {
      "text/plain": "<Figure size 432x288 with 1 Axes>",
      "image/png": "[encoded data removed]"
     },
     "metadata": {
      "needs_background": "light"
     },
     "output_type": "display_data"
    }
   ]
  }
 ]
}